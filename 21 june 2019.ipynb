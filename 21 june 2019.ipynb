{
 "cells": [
  {
   "cell_type": "code",
   "execution_count": 2,
   "metadata": {},
   "outputs": [
    {
     "name": "stdout",
     "output_type": "stream",
     "text": [
      "line\n",
      "line2\n",
      "line3\n"
     ]
    }
   ],
   "source": [
    "def readfile(filename):\n",
    "    f = open(filename,'r')\n",
    "    filedata=f.read()\n",
    "    f.close()\n",
    "    return filedata\n",
    "filename='DatafileS/new.txt'\n",
    "filedata=readfile(filename)\n",
    "for i in filedata.split():\n",
    "    print(i)\n"
   ]
  },
  {
   "cell_type": "code",
   "execution_count": 7,
   "metadata": {},
   "outputs": [
    {
     "data": {
      "text/plain": [
       "'line2'"
      ]
     },
     "execution_count": 7,
     "metadata": {},
     "output_type": "execute_result"
    }
   ],
   "source": [
    "def writeintofile(filename,filedata):\n",
    "    with open(filename,'w')as f:\n",
    "        f.write(filedata)\n",
    "    return\n",
    "filename='DatafileS/new.txt'\n",
    "writeintofile(filename,\"line2\")\n",
    "readfile(filename)"
   ]
  },
  {
   "cell_type": "code",
   "execution_count": 12,
   "metadata": {},
   "outputs": [
    {
     "data": {
      "text/plain": [
       "'line3'"
      ]
     },
     "execution_count": 12,
     "metadata": {},
     "output_type": "execute_result"
    }
   ],
   "source": [
    "def appenddataintofile(filename,filedata):\n",
    "    with open(filename,'w')as f:\n",
    "        f.write(filedata)\n",
    "    return\n",
    "filename='DatafileS/new.txt'\n",
    "filedata=\"line3\"\n",
    "appenddataintofile(filename,filedata)\n",
    "readfile(filename)"
   ]
  },
  {
   "cell_type": "code",
   "execution_count": 15,
   "metadata": {},
   "outputs": [
    {
     "data": {
      "text/plain": [
       "'line3string,data,'"
      ]
     },
     "execution_count": 15,
     "metadata": {},
     "output_type": "execute_result"
    }
   ],
   "source": [
    "# Function to append data into a file\n",
    "def appenddataintofile(filename,filedata):\n",
    "    with open(filename,'a')as f:\n",
    "        for line in filedata:\n",
    "            f.write(line+\",\")\n",
    "        return\n",
    "filename='DatafileS/new.txt'\n",
    "filedata=[\"string\",\"data\"]\n",
    "appenddataintofile(filename,filedata)\n",
    "readfile(filename)"
   ]
  },
  {
   "cell_type": "code",
   "execution_count": 16,
   "metadata": {},
   "outputs": [
    {
     "ename": "NameError",
     "evalue": "name 'contacts' is not defined",
     "output_type": "error",
     "traceback": [
      "\u001b[1;31m---------------------------------------------------------------------------\u001b[0m",
      "\u001b[1;31mNameError\u001b[0m                                 Traceback (most recent call last)",
      "\u001b[1;32m<ipython-input-16-01a0894987ce>\u001b[0m in \u001b[0;36m<module>\u001b[1;34m\u001b[0m\n\u001b[0;32m      1\u001b[0m \u001b[0mfiledata\u001b[0m\u001b[1;33m=\u001b[0m\u001b[1;33m[\u001b[0m\u001b[1;33m]\u001b[0m\u001b[1;33m\u001b[0m\u001b[1;33m\u001b[0m\u001b[0m\n\u001b[1;32m----> 2\u001b[1;33m \u001b[1;32mfor\u001b[0m \u001b[0mname\u001b[0m\u001b[1;33m,\u001b[0m \u001b[0mdetails\u001b[0m \u001b[1;32min\u001b[0m \u001b[0mcontacts\u001b[0m\u001b[1;33m.\u001b[0m\u001b[0mitems\u001b[0m\u001b[1;33m(\u001b[0m\u001b[1;33m)\u001b[0m\u001b[1;33m:\u001b[0m\u001b[1;33m\u001b[0m\u001b[1;33m\u001b[0m\u001b[0m\n\u001b[0m\u001b[0;32m      3\u001b[0m     \u001b[0mfiledata\u001b[0m\u001b[1;33m.\u001b[0m\u001b[0mappend\u001b[0m\u001b[1;33m(\u001b[0m\u001b[0mname\u001b[0m\u001b[1;33m)\u001b[0m\u001b[1;33m\u001b[0m\u001b[1;33m\u001b[0m\u001b[0m\n\u001b[0;32m      4\u001b[0m     \u001b[0mfiledata\u001b[0m\u001b[1;33m.\u001b[0m\u001b[0mappend\u001b[0m\u001b[1;33m(\u001b[0m\u001b[0mdetails\u001b[0m\u001b[1;33m[\u001b[0m\u001b[1;36m0\u001b[0m\u001b[1;33m]\u001b[0m\u001b[1;33m)\u001b[0m\u001b[1;33m\u001b[0m\u001b[1;33m\u001b[0m\u001b[0m\n\u001b[0;32m      5\u001b[0m     \u001b[0mfiledat\u001b[0m\u001b[1;33m.\u001b[0m\u001b[0mappend\u001b[0m\u001b[1;33m(\u001b[0m\u001b[0mdetails\u001b[0m\u001b[1;33m[\u001b[0m\u001b[1;36m1\u001b[0m\u001b[1;33m]\u001b[0m\u001b[1;33m)\u001b[0m\u001b[1;33m\u001b[0m\u001b[1;33m\u001b[0m\u001b[0m\n",
      "\u001b[1;31mNameError\u001b[0m: name 'contacts' is not defined"
     ]
    }
   ],
   "source": [
    "filedata=[]\n",
    "for name, details in contacts.items():\n",
    "    filedata.append(name)\n",
    "    filedata.append(details[0])\n",
    "    filedat.append(details[1])\n",
    "print(filedata)"
   ]
  },
  {
   "cell_type": "code",
   "execution_count": 18,
   "metadata": {},
   "outputs": [],
   "source": [
    "def appenddataintofile(filename,filedata):\n",
    "    with open(filename,'a')as f:\n",
    "        count=0\n",
    "        for line in filedata:\n",
    "            f.write(str(line)+\" ,\")\n",
    "            count+=1\n",
    "            if count%3==0:\n",
    "                f.write(\"\\n\")\n",
    "        return\n",
    "filename='DatafileS/new.txt'\n",
    "appenddataintofile(filename,filedata)\n"
   ]
  },
  {
   "cell_type": "code",
   "execution_count": null,
   "metadata": {},
   "outputs": [],
   "source": [
    "def appenddataintofile(filename,filedata):\n",
    "    with open(filename,'a')as f:\n",
    "        count=0\n",
    "        for line in filedata:\n",
    "        f.write"
   ]
  },
  {
   "cell_type": "code",
   "execution_count": 41,
   "metadata": {},
   "outputs": [
    {
     "name": "stdout",
     "output_type": "stream",
     "text": [
      "False\n"
     ]
    }
   ],
   "source": [
    "#Function to add contact to contacts text file\n",
    "from Packages import validators\n",
    "\n",
    "def addContact(name,phone,email):\n",
    "    # store data as name,phone,email in the contacts file\n",
    "    filename='DatafileS/contacts.txt'\n",
    "    if not checkContactExists(name):\n",
    "        if phoneNumberValidator(phone) and emailValidator(email):\n",
    "            with open(filename,'a')as f:\n",
    "                line = name + ',' +str(phone)  +' ,'+ email +'\\n'\n",
    "                f.write(line)\n",
    "            print(name,'added to contacts')\n",
    "        else:\n",
    "            print('Invalid Phone number or Email')\n",
    "            return\n",
    "    else:\n",
    "        print(name,'already exists')\n",
    "        return\n",
    "\n",
    "import re\n",
    "#Function to check if contact already exists\n",
    "def checkContactExists(name):\n",
    "    filename = 'DatafileS/contacts.txt'\n",
    "    with open(filename,'r')as f:\n",
    "        filedata=f.read()\n",
    "        pattern = name+','\n",
    "    return re.search(pattern,filedata)\n",
    "        \n",
    "if checkContactExists(\"name2\"):\n",
    "    print(True)\n",
    "else:\n",
    "    print(False)\n"
   ]
  },
  {
   "cell_type": "code",
   "execution_count": 46,
   "metadata": {},
   "outputs": [
    {
     "ename": "SyntaxError",
     "evalue": "invalid syntax (<ipython-input-46-cf8eb0dc6843>, line 2)",
     "output_type": "error",
     "traceback": [
      "\u001b[1;36m  File \u001b[1;32m\"<ipython-input-46-cf8eb0dc6843>\"\u001b[1;36m, line \u001b[1;32m2\u001b[0m\n\u001b[1;33m    from Packages import validators phoneNumberValidator as pnv ,emailvalidator as ev:\u001b[0m\n\u001b[1;37m                                                       ^\u001b[0m\n\u001b[1;31mSyntaxError\u001b[0m\u001b[1;31m:\u001b[0m invalid syntax\n"
     ]
    }
   ],
   "source": [
    "#Function to add contact to contacts text file\n",
    "from Packages import validators phoneNumberValidator as pnv ,emailvalidator as ev:\n",
    "#from Packages import validators import phoneNumberValidator as ev \n",
    "\n",
    "\n",
    "def addContact(name,phone,email):\n",
    "    # store data as name,phone,email in the contacts file\n",
    "    filename='DatafileS/contacts.txt'\n",
    "    if not checkContactExists(name):\n",
    "        if pnv(phone)\n",
    "        if phoneNumberValidator(phone) and emailValidator(email):\n",
    "        with open(filename,'a')as f:\n",
    "            line = name + ',' +str(phone)  +' ,'+ email +'\\n'\n",
    "            f.write(line)\n",
    "        print(name,'added to contacts')\n",
    "    else:\n",
    "        print('Invalid Phone number or Email')\n",
    "        return\n",
    "    else:\n",
    "        print(name,'already exists')\n",
    "    return\n",
    "\n",
    "import re\n",
    "#Function to check if contact already exists\n",
    "def checkContactExists(name):\n",
    "    filename = 'DatafileS/contacts.txt'\n",
    "    with open(filename,'r')as f:\n",
    "        filedata=f.read()\n",
    "        pattern = name+','\n",
    "    return re.search(pattern,filedata)\n",
    "        \n",
    "addContact('name2',123456,'bmn')"
   ]
  },
  {
   "cell_type": "code",
   "execution_count": 45,
   "metadata": {},
   "outputs": [
    {
     "data": {
      "text/plain": [
       "'name18498965107 name1_34@gmail.com\\n'"
      ]
     },
     "execution_count": 45,
     "metadata": {},
     "output_type": "execute_result"
    }
   ],
   "source": [
    "filename = 'DataFiles/contacts.txt'\n",
    "def csvToList(filename):\n",
    "    li=[]\n",
    "    with open(filename,'r') as f:\n",
    "        for line in f:\n",
    "            li.append(line.split(','))\n",
    "        return li\n",
    "    \n",
    "def listToFile(li):\n",
    "    s=''\n",
    "    for i in li:\n",
    "        s+=s.join(i)\n",
    "    return s\n",
    "\n",
    "li=csvToList(filename)\n",
    "listToFile(li)   \n"
   ]
  },
  {
   "cell_type": "code",
   "execution_count": 43,
   "metadata": {},
   "outputs": [
    {
     "data": {
      "text/plain": [
       "[['name1', '8498965107 ', 'name1_34@gmail.com\\n']]"
      ]
     },
     "execution_count": 43,
     "metadata": {},
     "output_type": "execute_result"
    }
   ],
   "source": [
    "filename = 'DataFiles/contacts.txt'\n",
    "def csvToList(filename):\n",
    "    li=[]\n",
    "    with open(filename,'r') as f:\n",
    "        for line in f:\n",
    "            li.append(line.split(','))\n",
    "        return li\n",
    "    \n",
    "csvToList(filename)"
   ]
  },
  {
   "cell_type": "code",
   "execution_count": null,
   "metadata": {},
   "outputs": [],
   "source": []
  }
 ],
 "metadata": {
  "kernelspec": {
   "display_name": "Python 3",
   "language": "python",
   "name": "python3"
  },
  "language_info": {
   "codemirror_mode": {
    "name": "ipython",
    "version": 3
   },
   "file_extension": ".py",
   "mimetype": "text/x-python",
   "name": "python",
   "nbconvert_exporter": "python",
   "pygments_lexer": "ipython3",
   "version": "3.7.3"
  }
 },
 "nbformat": 4,
 "nbformat_minor": 2
}
