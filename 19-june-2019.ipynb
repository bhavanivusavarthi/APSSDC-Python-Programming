{
 "cells": [
  {
   "cell_type": "markdown",
   "metadata": {},
   "source": [
    "### Anagrams in Hackerearth"
   ]
  },
  {
   "cell_type": "code",
   "execution_count": null,
   "metadata": {},
   "outputs": [],
   "source": [
    "for i in range(int(input())):\n",
    "    a=input()\n",
    "    b=input()\n",
    "    a1=[0]*26;\n",
    "    b1=[0]*26;\n",
    "    for ele in a:\n",
    "        a1[ord(ele)-97]+=1;\n",
    "    for ele in b:\n",
    "        b1[ord(ele)-97]+=1;\n",
    "    res=0\n",
    "    for i in range(26):\n",
    "        res=res+(abs(a1[i]-b1[i]))\n",
    "    print(res)    "
   ]
  },
  {
   "cell_type": "markdown",
   "metadata": {},
   "source": [
    "### Play with numbers"
   ]
  },
  {
   "cell_type": "code",
   "execution_count": null,
   "metadata": {},
   "outputs": [],
   "source": [
    "x=input().split()\n",
    "n,q=int(x[0]),int(x[1])\n",
    "list=list(map(int,input().split()))\n",
    "\n",
    "for i in range(1,len(list),1):\n",
    "    list[i]=list[i-1]+list[i]\n",
    "for i in range(0,q,1):\n",
    "    y=input().split()\n",
    "    l=int(y[0])\n",
    "    r=int(y[1])\n",
    "    if l==1:\n",
    "        sum=list[r-1]\n",
    "    else:\n",
    "        sum=list[r-1]-list[l-2]\n",
    "    print(sum//(r-l+1))\n",
    "\n",
    "        "
   ]
  },
  {
   "cell_type": "markdown",
   "metadata": {},
   "source": [
    "### D"
   ]
  }
 ],
 "metadata": {
  "kernelspec": {
   "display_name": "Python 3",
   "language": "python",
   "name": "python3"
  },
  "language_info": {
   "codemirror_mode": {
    "name": "ipython",
    "version": 3
   },
   "file_extension": ".py",
   "mimetype": "text/x-python",
   "name": "python",
   "nbconvert_exporter": "python",
   "pygments_lexer": "ipython3",
   "version": "3.7.3"
  }
 },
 "nbformat": 4,
 "nbformat_minor": 2
}
