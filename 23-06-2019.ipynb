{
 "cells": [
  {
   "cell_type": "code",
   "execution_count": 1,
   "metadata": {},
   "outputs": [
    {
     "name": "stdout",
     "output_type": "stream",
     "text": [
      "{'bhavani': 1, 'mohan': 1, 'madhu': 1, 'naveen': 1, 'tanuja': 1}\n",
      "bhavani : 1\n",
      "mohan : 1\n",
      "madhu : 1\n",
      "naveen : 1\n",
      "tanuja : 1\n"
     ]
    }
   ],
   "source": [
    "def freq_destribution_of_words(filename):\n",
    "    dict={}\n",
    "    with open(filename,'r') as f:\n",
    "        data=f.read().split()\n",
    "        \n",
    "        for j in range(0,len(data),1):\n",
    "            if (data[j] in dict):\n",
    "                 dict[data[j]]+=1\n",
    "            else:\n",
    "                dict[data[j]]=1\n",
    "    print(dict)\n",
    "    for key,value in dict.items():\n",
    "        if dict[key]==1:\n",
    "            print(key,\":\",value)\n",
    "\n",
    "filename=\"C:/Users/IIIT-rgukt/Desktop/APSSDC-Python-Programming-june-2019/data.txt\"\n",
    "freq_destribution_of_words(filename)"
   ]
  },
  {
   "cell_type": "code",
   "execution_count": 3,
   "metadata": {},
   "outputs": [
    {
     "name": "stdout",
     "output_type": "stream",
     "text": [
      "2\n"
     ]
    }
   ],
   "source": [
    "def unique_word_count(filename,word):\n",
    "    c=0\n",
    "    with open(filename,'r') as f:\n",
    "        for line in f:\n",
    "            words=line.split(\" \")\n",
    "            for i in range(0,len(words),1):\n",
    "                if words[i]==word or words[i]==word+\"\\n\":\n",
    "                    c=c+1\n",
    "    print(c)\n",
    "filename=\"C:/Users/IIIT-rgukt/Desktop/APSSDC-Python-Programming-june-2019/data.txt\"\n",
    "unique_word_count(filename,'bhavani')"
   ]
  },
  {
   "cell_type": "code",
   "execution_count": 4,
   "metadata": {},
   "outputs": [
    {
     "name": "stdout",
     "output_type": "stream",
     "text": [
      "File has  6  number of lines\n",
      "\n"
     ]
    }
   ],
   "source": [
    "def Line_count(filename):\n",
    "    c=0\n",
    "    with open(filename,'r') as f:\n",
    "        data=f.readlines()\n",
    "        for line in data:\n",
    "            c=c+1\n",
    "    print(\"File has \",c,\" number of lines\\n\")\n",
    "filename=\"C:/Users/IIIT-rgukt/Desktop/APSSDC-Python-Programming-june-2019/data.txt\"\n",
    "Line_count(filename)"
   ]
  },
  {
   "cell_type": "code",
   "execution_count": 6,
   "metadata": {},
   "outputs": [
    {
     "name": "stdout",
     "output_type": "stream",
     "text": [
      "File has  36  number of alphabets\n",
      "\n"
     ]
    }
   ],
   "source": [
    "def char_count(filename):\n",
    "    c=0\n",
    "    with open(filename,'r') as f:\n",
    "        for line in f:  \n",
    "            for ch in line: \n",
    "                if ch.isalpha()==True:\n",
    "                    c=c+1\n",
    "    print(\"File has \",c,\" number of alphabets\\n\")\n",
    "filename=\"C:/Users/IIIT-rgukt/Desktop/APSSDC-Python-Programming-june-2019/data.txt\"\n",
    "char_count(filename)"
   ]
  },
  {
   "cell_type": "code",
   "execution_count": 9,
   "metadata": {},
   "outputs": [],
   "source": [
    "#Funciton to count number of characters in a file including spaces and newlines\n",
    "def word_count(filename):\n",
    "    li=[]\n",
    "    with open(filename,'r') as f:\n",
    "        for line in f:\n",
    "            li.append(line.split(' '))\n",
    "    l=0          \n",
    "    for i in range(0,len(li),1):\n",
    "        l=l+len(li[i])\n",
    "\n",
    "    print(l)\n",
    "\n",
    "filename=\"C:/Users/IIIT-rgukt/Desktop/APSSDC-Python-Programming-june-2019/data.txt\""
   ]
  },
  {
   "cell_type": "code",
   "execution_count": 10,
   "metadata": {},
   "outputs": [
    {
     "name": "stdout",
     "output_type": "stream",
     "text": [
      "41\n",
      "[['b'], ['h'], ['a'], ['v'], ['a'], ['n'], ['i'], ['\\n'], ['m'], ['o'], ['h'], ['a'], ['n'], ['\\n'], ['m'], ['a'], ['d'], ['h'], ['u'], ['\\n'], ['n'], ['a'], ['v'], ['e'], ['e'], ['n'], ['\\n'], ['t'], ['a'], ['n'], ['u'], ['j'], ['a'], ['\\n'], ['b'], ['h'], ['a'], ['v'], ['a'], ['n'], ['i']]\n"
     ]
    }
   ],
   "source": [
    "#Funciton to count number of characters in a file including spaces and newlines\n",
    "def char_count_includespaces(filename):\n",
    "    li=[]\n",
    "    with open(filename,'r') as f:\n",
    "        data=f.read()\n",
    "        for line in data:\n",
    "            li.append(line.split(' '))\n",
    "    l=0          \n",
    "    #for i in range(0,len(li),1):\n",
    "     #   l=l+len(li[i]\n",
    "    print(len(li))\n",
    "    print(li)\n",
    "\n",
    "filename=\"C:/Users/IIIT-rgukt/Desktop/APSSDC-Python-Programming-june-2019/data.txt\"\n",
    "char_count_includespaces(filename)"
   ]
  },
  {
   "cell_type": "code",
   "execution_count": 11,
   "metadata": {},
   "outputs": [
    {
     "name": "stdout",
     "output_type": "stream",
     "text": [
      "46 bytes\n"
     ]
    }
   ],
   "source": [
    "import os\n",
    "def size_file():\n",
    "    file=os.path.getsize(\"C:/Users/IIIT-rgukt/Desktop/APSSDC-Python-Programming-june-2019/data.txt\")\n",
    "    print(file,\"bytes\")\n",
    "size_file()"
   ]
  },
  {
   "cell_type": "code",
   "execution_count": null,
   "metadata": {},
   "outputs": [],
   "source": []
  }
 ],
 "metadata": {
  "kernelspec": {
   "display_name": "Python 3",
   "language": "python",
   "name": "python3"
  },
  "language_info": {
   "codemirror_mode": {
    "name": "ipython",
    "version": 3
   },
   "file_extension": ".py",
   "mimetype": "text/x-python",
   "name": "python",
   "nbconvert_exporter": "python",
   "pygments_lexer": "ipython3",
   "version": "3.7.3"
  }
 },
 "nbformat": 4,
 "nbformat_minor": 2
}
