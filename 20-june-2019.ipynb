{
 "cells": [
  {
   "cell_type": "markdown",
   "metadata": {},
   "source": [
    "### Day Objectives\n",
    "\n",
    "* Regular Expressions\n",
    "   * Constructing Regular Expressions for various usecases\n",
    "   * Regular Expressions Module and relatd in Python\n",
    "   * Improving the Contacts application with name and phone number validation\n",
    " \n",
    "* File Handling\n",
    "    * Tet Files\n",
    "    * Upgrading the Contacts Application to store contact information in a text\n"
   ]
  },
  {
   "cell_type": "markdown",
   "metadata": {},
   "source": [
    "### Regular Expressions\n",
    "\n",
    "- Pattern Matching\n",
    "- Symbolic Notation of a pattern\n",
    "    - Pattern : Format which repeats\n",
    "    - Pattern(RE) represents The set of all strings matches that pattern \n",
    "- [0-9] -> Any digit\n",
    "- [a-z] -> Any lower case alphabet\n",
    "- [2468] -> All single digit multiples of 2\n",
    "- ^[0-9]{1}$ -> Only single digit numbers\n",
    "- ^[0-9]{3}$ -> Only 3 digit numbers\n",
    "- [0-9]*0$ -> All multiples of 10\n",
    "- ^([1-9][0-9]*[05])$|^([5])$ -> All multiples of 5\n",
    "- -> All 10 digit numbers\n",
    "-[w] [0] [r] [d] or (word) -> Searching for a 'word'\n",
    "- ^[6-9][0-9]{9}$       -> Validating Phone number (start with 9876 followed by 9 digits)\n",
    "-        -> Email Validation (username@domain.extension)\n",
    "        - username\n",
    "            - Length of username : [6,15] ^[0-9a-z][0-9a-z_.]{5,14}[]0-9a-z]$\n",
    "            - No special characters other than_\n",
    "            - Should not begin and end with_\n",
    "            - Character set : all digits and lower case alphabet\n",
    "            \n",
    "            ^[0-9a-z][0-9a-z_.]{4,13}[0-9a-z]$\n",
    "        - domain\n",
    "            - Length of domain : [3,18]\n",
    "            - No special characters\n",
    "            - Character set : all digits and alphabet\n",
    "            \n",
    "            ^[0-9a-z][0-9a-z_.]{4,13}[0-9a-z][@][a-z0-9]{3,18}$\n",
    "        - extension\n",
    "            - Length of extension : [2,4]\n",
    "            - No special characters\n",
    "            - Character set : alphabet\n",
    "            \n",
    "            ^[0-9a-z][0-9a-z_.]{4,13}[0-9a-z][@][a-z0-9]{3,18}[.][a-z]{2,4}$\n",
    "            \n",
    "            https://regex101.com/\n",
    "            \n",
    "- ^[a]...[z]$ -> Any string of length 5 that starts with 'a' and ends 'z'\n",
    "- ^[a].*[z]$ -> Any string of  any length that starts with 'a' and ends 'z'\n"
   ]
  },
  {
   "cell_type": "code",
   "execution_count": null,
   "metadata": {},
   "outputs": [],
   "source": []
  },
  {
   "cell_type": "code",
   "execution_count": 4,
   "metadata": {},
   "outputs": [
    {
     "name": "stdout",
     "output_type": "stream",
     "text": [
      "valid number\n"
     ]
    }
   ],
   "source": [
    "# Function to validate a phone number\n",
    "import re\n",
    "\n",
    "def phoneNumberValidator(number):\n",
    "    pattern = '^[6-9][0-9]{9}$|^[0][6-9][0-9]{9}$'\n",
    "    if re.match(pattern,str(number)):\n",
    "        print(\"valid number\")\n",
    "    else:\n",
    "        print(\"Invalid Number\")\n",
    "    return\n",
    "\n",
    "phoneNumberValidator(9848361669)"
   ]
  },
  {
   "cell_type": "code",
   "execution_count": 11,
   "metadata": {},
   "outputs": [
    {
     "name": "stdout",
     "output_type": "stream",
     "text": [
      "valid number\n",
      "Phone number is invalid\n"
     ]
    }
   ],
   "source": [
    "contacts = {\"name1\":[8498965107],'name1@domain.ext',\"\"name2\":[9014136817],'name2@domain.ext'}\n",
    "\n",
    "def addcontact(name,phone):\n",
    "    # verify that the contact doesnot already exist\"}\n",
    "\n",
    "def addcontact(name,phone):\n",
    "    # verify that the contact doesnot already exist\n",
    "    if name not in contacts and phoneNumberValidator(phone):\n",
    "        contacts[name]=phone\n",
    "        print(\"contact %s added\" % name)\n",
    "    if not phoneNumberValidator(phone):\n",
    "        print(\"Phone number is invalid\")\n",
    "    return\n",
    "\n",
    "addcontact(\"name1\",\"8498965107\")"
   ]
  },
  {
   "cell_type": "code",
   "execution_count": null,
   "metadata": {},
   "outputs": [],
   "source": [
    "def searchcontacts(name):\n",
    "    if name in contacts:\n",
    "        print(name,\":\",contacts[name])\n",
    "    else:\n",
    "        print(\"%s does not exist\" %name)\n",
    "    return\n",
    "\n",
    "searchcontacts(\"name10\")"
   ]
  },
  {
   "cell_type": "code",
   "execution_count": 30,
   "metadata": {},
   "outputs": [
    {
     "ename": "IndentationError",
     "evalue": "unindent does not match any outer indentation level (<tokenize>, line 13)",
     "output_type": "error",
     "traceback": [
      "\u001b[1;36m  File \u001b[1;32m\"<tokenize>\"\u001b[1;36m, line \u001b[1;32m13\u001b[0m\n\u001b[1;33m    newcontact=[]\u001b[0m\n\u001b[1;37m    ^\u001b[0m\n\u001b[1;31mIndentationError\u001b[0m\u001b[1;31m:\u001b[0m unindent does not match any outer indentation level\n"
     ]
    }
   ],
   "source": [
    "contacts = {\"name1\":[8498965107],'name1@domain.ext'}\n",
    "def addcontact(name,phone,email):\n",
    "    # verify that the contact doesnot already exist\"}\n",
    "    if name in contacts:\n",
    "            print(name,\"already exists.\")\n",
    "            return\n",
    "    if not phoneNumberValidator(phone):\n",
    "            print(\"Phone number is invalid\")\n",
    "            return\n",
    "    if not emailValidator(email):\n",
    "            print(\"Invalid Email address\")\n",
    "            return\n",
    "        newcontact=[]\n",
    "        newcontact.append(phone)\n",
    "        newcontact.append(email)\n",
    "        contacts[name]=newcontact\n",
    "        print[name,added successfully]\n",
    "            \n",
    "addcontacts(\"name1\":[8498965107],'name1@domain.ext')\n",
    "contacts       \n",
    "            "
   ]
  },
  {
   "cell_type": "code",
   "execution_count": 31,
   "metadata": {},
   "outputs": [
    {
     "ename": "SyntaxError",
     "evalue": "EOL while scanning string literal (<ipython-input-31-9fe3e1e040d2>, line 1)",
     "output_type": "error",
     "traceback": [
      "\u001b[1;36m  File \u001b[1;32m\"<ipython-input-31-9fe3e1e040d2>\"\u001b[1;36m, line \u001b[1;32m1\u001b[0m\n\u001b[1;33m    contacts = {\"name1\":[8498965107],'name1@domain.ext}\u001b[0m\n\u001b[1;37m                                                       ^\u001b[0m\n\u001b[1;31mSyntaxError\u001b[0m\u001b[1;31m:\u001b[0m EOL while scanning string literal\n"
     ]
    }
   ],
   "source": [
    "contacts = {\"name1\":[8498965107],'name1@domain.ext}\n",
    "\n",
    "def searchcontacts(name):\n",
    "    if name in contacts:\n",
    "        print(name)\n",
    "        print(\"phone:\",contacts[name][0])\n",
    "        print(\"Email :\",contact[name][1])\n",
    "    else:\n",
    "        print(\"%s does not exist\" %name)\n",
    "    return\n",
    "searchcontacts(\"name1\":[8498965107],'name1@domain.ext')\n"
   ]
  },
  {
   "cell_type": "code",
   "execution_count": 24,
   "metadata": {},
   "outputs": [
    {
     "name": "stdout",
     "output_type": "stream",
     "text": [
      "2\n"
     ]
    },
    {
     "data": {
      "text/plain": [
       "{'name1': [8498965107, 'name1@domain.ext'],\n",
       " 'name4': 1234567,\n",
       " 'name4_123@domain.com': 56789123}"
      ]
     },
     "execution_count": 24,
     "metadata": {},
     "output_type": "execute_result"
    }
   ],
   "source": [
    "# New contacts is given  as a dictionary\n",
    "# Merge new contacts with existing contacts\n",
    "\n",
    "def importcontacts(newcontacts):\n",
    "    contacts.update(newcontacts)\n",
    "    print(len(newcontacts.keys())), \"2 contacts added successfully\"\n",
    "    return\n",
    "\n",
    "newcontacts = {\"name4\":1234567,\"name4_123@domain.com\":56789123}\n",
    "\n",
    "importcontacts(newcontacts)\n",
    "contacts"
   ]
  },
  {
   "cell_type": "code",
   "execution_count": 2,
   "metadata": {},
   "outputs": [
    {
     "ename": "NameError",
     "evalue": "name 'contacts' is not defined",
     "output_type": "error",
     "traceback": [
      "\u001b[1;31m---------------------------------------------------------------------------\u001b[0m",
      "\u001b[1;31mNameError\u001b[0m                                 Traceback (most recent call last)",
      "\u001b[1;32m<ipython-input-2-8635c6454e81>\u001b[0m in \u001b[0;36m<module>\u001b[1;34m\u001b[0m\n\u001b[0;32m      6\u001b[0m     \u001b[1;32mreturn\u001b[0m\u001b[1;33m\u001b[0m\u001b[1;33m\u001b[0m\u001b[0m\n\u001b[0;32m      7\u001b[0m \u001b[1;33m\u001b[0m\u001b[0m\n\u001b[1;32m----> 8\u001b[1;33m \u001b[0mlistAllContacts\u001b[0m\u001b[1;33m(\u001b[0m\u001b[1;33m)\u001b[0m\u001b[1;33m\u001b[0m\u001b[1;33m\u001b[0m\u001b[0m\n\u001b[0m\u001b[0;32m      9\u001b[0m \u001b[1;33m\u001b[0m\u001b[0m\n",
      "\u001b[1;32m<ipython-input-2-8635c6454e81>\u001b[0m in \u001b[0;36mlistAllContacts\u001b[1;34m()\u001b[0m\n\u001b[0;32m      2\u001b[0m \u001b[1;33m\u001b[0m\u001b[0m\n\u001b[0;32m      3\u001b[0m \u001b[1;32mdef\u001b[0m \u001b[0mlistAllContacts\u001b[0m\u001b[1;33m(\u001b[0m\u001b[1;33m)\u001b[0m\u001b[1;33m:\u001b[0m\u001b[1;33m\u001b[0m\u001b[1;33m\u001b[0m\u001b[0m\n\u001b[1;32m----> 4\u001b[1;33m     \u001b[1;32mfor\u001b[0m \u001b[0mcontact\u001b[0m\u001b[1;33m,\u001b[0m\u001b[0minfo\u001b[0m \u001b[1;32min\u001b[0m \u001b[0mcontacts\u001b[0m\u001b[1;33m.\u001b[0m\u001b[0mitems\u001b[0m\u001b[1;33m(\u001b[0m\u001b[1;33m)\u001b[0m\u001b[1;33m:\u001b[0m\u001b[1;33m\u001b[0m\u001b[1;33m\u001b[0m\u001b[0m\n\u001b[0m\u001b[0;32m      5\u001b[0m         \u001b[0mprint\u001b[0m\u001b[1;33m(\u001b[0m\u001b[0mcontact\u001b[0m\u001b[1;33m,\u001b[0m\u001b[1;34m\"\\n\"\u001b[0m\u001b[1;33m,\u001b[0m\u001b[1;34m\"phone:\"\u001b[0m\u001b[1;33m,\u001b[0m\u001b[0minfo\u001b[0m\u001b[1;33m[\u001b[0m\u001b[1;36m0\u001b[0m\u001b[1;33m]\u001b[0m\u001b[1;33m,\u001b[0m\u001b[1;34m\"\\n\"\u001b[0m\u001b[1;33m,\u001b[0m\u001b[1;34m\"Email:\"\u001b[0m\u001b[1;33m,\u001b[0m\u001b[0minfo\u001b[0m\u001b[1;33m[\u001b[0m\u001b[1;36m1\u001b[0m\u001b[1;33m]\u001b[0m\u001b[1;33m)\u001b[0m\u001b[1;33m\u001b[0m\u001b[1;33m\u001b[0m\u001b[0m\n\u001b[0;32m      6\u001b[0m     \u001b[1;32mreturn\u001b[0m\u001b[1;33m\u001b[0m\u001b[1;33m\u001b[0m\u001b[0m\n",
      "\u001b[1;31mNameError\u001b[0m: name 'contacts' is not defined"
     ]
    }
   ],
   "source": [
    "# Function to list all contacts\n",
    "\n",
    "def listAllContacts():\n",
    "    for contact,info in contacts.items():\n",
    "        print(contact,\"\\n\",\"phone:\",info[0],\"\\n\",\"Email:\",info[1])\n",
    "    return\n",
    "\n",
    "listAllContacts()\n",
    "        "
   ]
  },
  {
   "cell_type": "markdown",
   "metadata": {},
   "source": [
    "#### File Handling in Python\n",
    "\n",
    "File - Document containing information residing on the permanent storage\n",
    "Types - Text, PDF, CSV etc\n",
    "\n",
    "File I/O - Channeling I/O data to files\n",
    "Default I/O channels -Keyboard/Screen\n",
    "\n",
    "Change I/O channel to files for Reading and writing\n",
    "\n",
    "Read a file - Input from file\n",
    "Write to a file - Output to a file\n",
    "\n",
    "Read/write file - open(filename,mode)\n",
    "\n"
   ]
  },
  {
   "cell_type": "code",
   "execution_count": 35,
   "metadata": {},
   "outputs": [
    {
     "name": "stdout",
     "output_type": "stream",
     "text": [
      "text\n"
     ]
    },
    {
     "data": {
      "text/plain": [
       "'text'"
      ]
     },
     "execution_count": 35,
     "metadata": {},
     "output_type": "execute_result"
    }
   ],
   "source": [
    "s=input()\n",
    "s"
   ]
  },
  {
   "cell_type": "code",
   "execution_count": null,
   "metadata": {},
   "outputs": [],
   "source": [
    "def readfile(filename):\n",
    "    f = open(filename,'r')\n",
    "    filedata=f.read()\n",
    "    f.close()\n",
    "    return filedata\n",
    "filename='DatafileS/new.txt'\n",
    "filedata=readfile(filename)\n",
    "for i in filedata.split():\n",
    "    print(i)"
   ]
  },
  {
   "cell_type": "code",
   "execution_count": null,
   "metadata": {},
   "outputs": [],
   "source": []
  }
 ],
 "metadata": {
  "kernelspec": {
   "display_name": "Python 3",
   "language": "python",
   "name": "python3"
  },
  "language_info": {
   "codemirror_mode": {
    "name": "ipython",
    "version": 3
   },
   "file_extension": ".py",
   "mimetype": "text/x-python",
   "name": "python",
   "nbconvert_exporter": "python",
   "pygments_lexer": "ipython3",
   "version": "3.7.3"
  }
 },
 "nbformat": 4,
 "nbformat_minor": 2
}
